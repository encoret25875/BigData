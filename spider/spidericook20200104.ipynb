{
 "cells": [
  {
   "cell_type": "code",
   "execution_count": 1,
   "metadata": {},
   "outputs": [
    {
     "name": "stdout",
     "output_type": "stream",
     "text": [
      "Requirement already satisfied: beautifulsoup4 in c:\\users\\ray-c\\anaconda3\\lib\\site-packages (4.9.1)\n",
      "Requirement already satisfied: soupsieve>1.2 in c:\\users\\ray-c\\anaconda3\\lib\\site-packages (from beautifulsoup4) (2.0.1)\n",
      "Requirement already satisfied: requests in c:\\users\\ray-c\\anaconda3\\lib\\site-packages (2.24.0)\n",
      "Requirement already satisfied: chardet<4,>=3.0.2 in c:\\users\\ray-c\\anaconda3\\lib\\site-packages (from requests) (3.0.4)\n",
      "Requirement already satisfied: urllib3!=1.25.0,!=1.25.1,<1.26,>=1.21.1 in c:\\users\\ray-c\\anaconda3\\lib\\site-packages (from requests) (1.25.9)\n",
      "Requirement already satisfied: idna<3,>=2.5 in c:\\users\\ray-c\\anaconda3\\lib\\site-packages (from requests) (2.10)\n",
      "Requirement already satisfied: certifi>=2017.4.17 in c:\\users\\ray-c\\anaconda3\\lib\\site-packages (from requests) (2020.6.20)\n"
     ]
    }
   ],
   "source": [
    "!pip install beautifulsoup4\n",
    "!pip install requests"
   ]
  },
  {
   "cell_type": "code",
   "execution_count": 2,
   "metadata": {},
   "outputs": [],
   "source": [
    "import requests\n",
    "from bs4 import BeautifulSoup"
   ]
  },
  {
   "cell_type": "code",
   "execution_count": 3,
   "metadata": {},
   "outputs": [],
   "source": [
    "useragent = 'Mozilla/5.0 (Windows NT 10.0; Win64; x64) AppleWebKit/537.36 (KHTML, like Gecko) Chrome/80.0.3987.132 ' \\\n",
    "            'Safari/537.36 '\n",
    "headers = {'User-Agent': useragent}\n",
    "url = 'https://icook.tw/recipes/356325'\n",
    "res = requests.get(url, headers=headers)\n",
    "soup = BeautifulSoup(res.text, 'html.parser')\n",
    "# print(soup.prettify())"
   ]
  },
  {
   "cell_type": "code",
   "execution_count": 4,
   "metadata": {},
   "outputs": [
    {
     "name": "stdout",
     "output_type": "stream",
     "text": [
      "韓式豆腐鍋\n"
     ]
    }
   ],
   "source": [
    "#食譜名稱\n",
    "result_name = soup.find(\"h1\", id=\"recipe-name\")\n",
    "print(result_name.text.strip())"
   ]
  },
  {
   "cell_type": "code",
   "execution_count": 5,
   "metadata": {},
   "outputs": [
    {
     "name": "stdout",
     "output_type": "stream",
     "text": [
      "2\n",
      "人份\n"
     ]
    }
   ],
   "source": [
    "# 份量\n",
    "result_count = soup.findAll('div', class_='info-content')\n",
    "if result_count:\n",
    "    food_span_num = soup.findAll('span', class_='num')\n",
    "    print(food_span_num[0].text)\n",
    "    food_span_unit = soup.findAll('span', class_='unit')\n",
    "    print(food_span_unit[0].text)"
   ]
  },
  {
   "cell_type": "code",
   "execution_count": 6,
   "metadata": {},
   "outputs": [
    {
     "name": "stdout",
     "output_type": "stream",
     "text": [
      "絞肉\n",
      "嫩豆腐\n",
      "蔥\n",
      "洋蔥\n",
      "香菇\n",
      "金針菇\n",
      "高湯\n",
      "韓式辣椒粉\n",
      "麻油\n",
      "蒜泥\n",
      "糖\n",
      "醬油\n",
      "蛋\n"
     ]
    }
   ],
   "source": [
    "# 食材資訊\n",
    "# 食材名稱\n",
    "result_ingredients_name = soup.findAll('a', class_='ingredient-search')\n",
    "for ingredient_name in result_ingredients_name:\n",
    "    print(ingredient_name.text)"
   ]
  },
  {
   "cell_type": "code",
   "execution_count": 7,
   "metadata": {},
   "outputs": [
    {
     "name": "stdout",
     "output_type": "stream",
     "text": [
      "200g\n",
      "250g\n",
      "1根\n",
      "1/2顆\n",
      "2-3個\n",
      "1把\n",
      "約500ml\n",
      "2-3大匙\n",
      "2-3大匙\n",
      "1小匙\n",
      "1匙\n",
      "1匙\n",
      "1顆\n"
     ]
    }
   ],
   "source": [
    "# 食材份量\n",
    "result_ingredients_unit = soup.findAll('div', class_='ingredient-unit')\n",
    "for ingredient_unit in result_ingredients_unit:\n",
    "    print(ingredient_unit.text)"
   ]
  },
  {
   "cell_type": "code",
   "execution_count": 8,
   "metadata": {},
   "outputs": [
    {
     "name": "stdout",
     "output_type": "stream",
     "text": [
      "先準備食材\n",
      "香菇切片或丁，洋蔥切丁，切蔥花可以把蔥白分開\n",
      "熱鍋下橄欖油大約一匙和2/3的麻油，炒絞肉\n",
      "炒到變色後加入蔥白\n",
      "洋蔥\n",
      "香菇\n",
      "再加入辣椒粉拌炒一下\n",
      "加入糖和醬油炒一下\n",
      "加入高湯，如果高湯沒有鹹味，試吃看看可以用鹽調味\n",
      "滾了後加入豆腐\n",
      "加金針菇\n",
      "可以在陶鍋裡煮，最後加上一顆蛋和蒜泥淋一點麻油和蔥花，完成\n"
     ]
    }
   ],
   "source": [
    "# 烹調步驟\n",
    "recipe_step = soup.findAll('p', class_='recipe-step-description-content')\n",
    "for step in recipe_step:\n",
    "    print(step.text)"
   ]
  },
  {
   "cell_type": "code",
   "execution_count": 9,
   "metadata": {},
   "outputs": [
    {
     "name": "stdout",
     "output_type": "stream",
     "text": [
      "食譜名稱: 韓式豆腐鍋\n",
      "\n",
      "份量: 2 人份\n",
      "\n",
      "食材:\n",
      "絞肉 200g\n",
      "嫩豆腐 250g\n",
      "蔥 1根\n",
      "洋蔥 1/2顆\n",
      "香菇 2-3個\n",
      "金針菇 1把\n",
      "高湯 約500ml\n",
      "韓式辣椒粉 2-3大匙\n",
      "麻油 2-3大匙\n",
      "蒜泥 1小匙\n",
      "糖 1匙\n",
      "醬油 1匙\n",
      "蛋 1顆\n",
      "\n",
      "步驟:\n",
      "先準備食材\n",
      "香菇切片或丁，洋蔥切丁，切蔥花可以把蔥白分開\n",
      "熱鍋下橄欖油大約一匙和2/3的麻油，炒絞肉\n",
      "炒到變色後加入蔥白\n",
      "洋蔥\n",
      "香菇\n",
      "再加入辣椒粉拌炒一下\n",
      "加入糖和醬油炒一下\n",
      "加入高湯，如果高湯沒有鹹味，試吃看看可以用鹽調味\n",
      "滾了後加入豆腐\n",
      "加金針菇\n",
      "可以在陶鍋裡煮，最後加上一顆蛋和蒜泥淋一點麻油和蔥花，完成\n"
     ]
    }
   ],
   "source": [
    "# 整理所有資訊\n",
    "print('食譜名稱:',result_name.text.strip())\n",
    "\n",
    "if result_count:\n",
    "    food_span_num = soup.findAll('span', class_='num')\n",
    "    print('\\n份量:',food_span_num[0].text,food_span_unit[0].text)\n",
    "    food_span_unit = soup.findAll('span', class_='unit')\n",
    "\n",
    "print('\\n食材:')\n",
    "temp = [result_ingredients_name,result_ingredients_unit]\n",
    "for i in range(len(result_ingredients_name)):\n",
    "    print(temp[0][i].text,temp[1][i].text)\n",
    "    \n",
    "print('\\n步驟:')\n",
    "for step in recipe_step:\n",
    "    print(step.text)"
   ]
  },
  {
   "cell_type": "code",
   "execution_count": null,
   "metadata": {},
   "outputs": [],
   "source": []
  }
 ],
 "metadata": {
  "kernelspec": {
   "display_name": "Python 3",
   "language": "python",
   "name": "python3"
  },
  "language_info": {
   "codemirror_mode": {
    "name": "ipython",
    "version": 3
   },
   "file_extension": ".py",
   "mimetype": "text/x-python",
   "name": "python",
   "nbconvert_exporter": "python",
   "pygments_lexer": "ipython3",
   "version": "3.8.3"
  }
 },
 "nbformat": 4,
 "nbformat_minor": 4
}
